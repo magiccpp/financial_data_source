{
 "cells": [
  {
   "cell_type": "code",
   "execution_count": null,
   "id": "b2ed679b",
   "metadata": {},
   "outputs": [],
   "source": [
    "from azure.storage.blob import BlobClient, BlobServiceClient\n",
    "import os\n",
    "from dotenv import load_dotenv"
   ]
  },
  {
   "cell_type": "code",
   "execution_count": 5,
   "id": "a9b7adac",
   "metadata": {},
   "outputs": [
    {
     "ename": "ValueError",
     "evalue": "Connection string is either blank or malformed.",
     "output_type": "error",
     "traceback": [
      "\u001b[0;31m---------------------------------------------------------------------------\u001b[0m",
      "\u001b[0;31mValueError\u001b[0m                                Traceback (most recent call last)",
      "Cell \u001b[0;32mIn[5], line 6\u001b[0m\n\u001b[1;32m      3\u001b[0m AZURE_CONTAINER_NAME \u001b[38;5;241m=\u001b[39m os\u001b[38;5;241m.\u001b[39mgetenv(\u001b[38;5;124m\"\u001b[39m\u001b[38;5;124mAZURE_CONTAINER_NAME\u001b[39m\u001b[38;5;124m\"\u001b[39m, \u001b[38;5;124m\"\u001b[39m\u001b[38;5;124mdata\u001b[39m\u001b[38;5;124m\"\u001b[39m)\n\u001b[1;32m      5\u001b[0m \u001b[38;5;66;03m# Initialize Azure Blob Service Client\u001b[39;00m\n\u001b[0;32m----> 6\u001b[0m blob_service_client \u001b[38;5;241m=\u001b[39m \u001b[43mBlobServiceClient\u001b[49m\u001b[38;5;241;43m.\u001b[39;49m\u001b[43mfrom_connection_string\u001b[49m\u001b[43m(\u001b[49m\u001b[43mAZURE_CONNECTION_STRING\u001b[49m\u001b[43m)\u001b[49m\n\u001b[1;32m      7\u001b[0m blob_container_client \u001b[38;5;241m=\u001b[39m blob_service_client\u001b[38;5;241m.\u001b[39mget_container_client(AZURE_CONTAINER_NAME)\n",
      "File \u001b[0;32m~/anaconda3/envs/stock/lib/python3.11/site-packages/azure/storage/blob/_blob_service_client.py:184\u001b[0m, in \u001b[0;36mBlobServiceClient.from_connection_string\u001b[0;34m(cls, conn_str, credential, **kwargs)\u001b[0m\n\u001b[1;32m    145\u001b[0m \u001b[38;5;129m@classmethod\u001b[39m\n\u001b[1;32m    146\u001b[0m \u001b[38;5;28;01mdef\u001b[39;00m \u001b[38;5;21mfrom_connection_string\u001b[39m(\n\u001b[1;32m    147\u001b[0m     \u001b[38;5;28mcls\u001b[39m, conn_str: \u001b[38;5;28mstr\u001b[39m,\n\u001b[1;32m    148\u001b[0m     credential: Optional[Union[\u001b[38;5;28mstr\u001b[39m, Dict[\u001b[38;5;28mstr\u001b[39m, \u001b[38;5;28mstr\u001b[39m], \u001b[38;5;124m\"\u001b[39m\u001b[38;5;124mAzureNamedKeyCredential\u001b[39m\u001b[38;5;124m\"\u001b[39m, \u001b[38;5;124m\"\u001b[39m\u001b[38;5;124mAzureSasCredential\u001b[39m\u001b[38;5;124m\"\u001b[39m, \u001b[38;5;124m\"\u001b[39m\u001b[38;5;124mTokenCredential\u001b[39m\u001b[38;5;124m\"\u001b[39m]] \u001b[38;5;241m=\u001b[39m \u001b[38;5;28;01mNone\u001b[39;00m,  \u001b[38;5;66;03m# pylint: disable=line-too-long\u001b[39;00m\n\u001b[1;32m    149\u001b[0m     \u001b[38;5;241m*\u001b[39m\u001b[38;5;241m*\u001b[39mkwargs: Any\n\u001b[1;32m    150\u001b[0m ) \u001b[38;5;241m-\u001b[39m\u001b[38;5;241m>\u001b[39m Self:\n\u001b[1;32m    151\u001b[0m \u001b[38;5;250m    \u001b[39m\u001b[38;5;124;03m\"\"\"Create BlobServiceClient from a Connection String.\u001b[39;00m\n\u001b[1;32m    152\u001b[0m \n\u001b[1;32m    153\u001b[0m \u001b[38;5;124;03m    :param str conn_str:\u001b[39;00m\n\u001b[0;32m   (...)\u001b[0m\n\u001b[1;32m    182\u001b[0m \u001b[38;5;124;03m            :caption: Creating the BlobServiceClient from a connection string.\u001b[39;00m\n\u001b[1;32m    183\u001b[0m \u001b[38;5;124;03m    \"\"\"\u001b[39;00m\n\u001b[0;32m--> 184\u001b[0m     account_url, secondary, credential \u001b[38;5;241m=\u001b[39m \u001b[43mparse_connection_str\u001b[49m\u001b[43m(\u001b[49m\u001b[43mconn_str\u001b[49m\u001b[43m,\u001b[49m\u001b[43m \u001b[49m\u001b[43mcredential\u001b[49m\u001b[43m,\u001b[49m\u001b[43m \u001b[49m\u001b[38;5;124;43m'\u001b[39;49m\u001b[38;5;124;43mblob\u001b[39;49m\u001b[38;5;124;43m'\u001b[39;49m\u001b[43m)\u001b[49m\n\u001b[1;32m    185\u001b[0m     \u001b[38;5;28;01mif\u001b[39;00m \u001b[38;5;124m'\u001b[39m\u001b[38;5;124msecondary_hostname\u001b[39m\u001b[38;5;124m'\u001b[39m \u001b[38;5;129;01mnot\u001b[39;00m \u001b[38;5;129;01min\u001b[39;00m kwargs:\n\u001b[1;32m    186\u001b[0m         kwargs[\u001b[38;5;124m'\u001b[39m\u001b[38;5;124msecondary_hostname\u001b[39m\u001b[38;5;124m'\u001b[39m] \u001b[38;5;241m=\u001b[39m secondary\n",
      "File \u001b[0;32m~/anaconda3/envs/stock/lib/python3.11/site-packages/azure/storage/blob/_shared/base_client.py:395\u001b[0m, in \u001b[0;36mparse_connection_str\u001b[0;34m(conn_str, credential, service)\u001b[0m\n\u001b[1;32m    393\u001b[0m conn_settings_list \u001b[38;5;241m=\u001b[39m [s\u001b[38;5;241m.\u001b[39msplit(\u001b[38;5;124m\"\u001b[39m\u001b[38;5;124m=\u001b[39m\u001b[38;5;124m\"\u001b[39m, \u001b[38;5;241m1\u001b[39m) \u001b[38;5;28;01mfor\u001b[39;00m s \u001b[38;5;129;01min\u001b[39;00m conn_str\u001b[38;5;241m.\u001b[39msplit(\u001b[38;5;124m\"\u001b[39m\u001b[38;5;124m;\u001b[39m\u001b[38;5;124m\"\u001b[39m)]\n\u001b[1;32m    394\u001b[0m \u001b[38;5;28;01mif\u001b[39;00m \u001b[38;5;28many\u001b[39m(\u001b[38;5;28mlen\u001b[39m(tup) \u001b[38;5;241m!=\u001b[39m \u001b[38;5;241m2\u001b[39m \u001b[38;5;28;01mfor\u001b[39;00m tup \u001b[38;5;129;01min\u001b[39;00m conn_settings_list):\n\u001b[0;32m--> 395\u001b[0m     \u001b[38;5;28;01mraise\u001b[39;00m \u001b[38;5;167;01mValueError\u001b[39;00m(\u001b[38;5;124m\"\u001b[39m\u001b[38;5;124mConnection string is either blank or malformed.\u001b[39m\u001b[38;5;124m\"\u001b[39m)\n\u001b[1;32m    396\u001b[0m conn_settings \u001b[38;5;241m=\u001b[39m \u001b[38;5;28mdict\u001b[39m((key\u001b[38;5;241m.\u001b[39mupper(), val) \u001b[38;5;28;01mfor\u001b[39;00m key, val \u001b[38;5;129;01min\u001b[39;00m conn_settings_list)\n\u001b[1;32m    397\u001b[0m endpoints \u001b[38;5;241m=\u001b[39m _SERVICE_PARAMS[service]\n",
      "\u001b[0;31mValueError\u001b[0m: Connection string is either blank or malformed."
     ]
    }
   ],
   "source": [
    "# Configuration for Azure Blob Storage\n",
    "AZURE_CONNECTION_STRING = os.getenv(\"AZURE_STORAGE_CONNECTION_STRING\", \"\")\n",
    "AZURE_CONTAINER_NAME = os.getenv(\"AZURE_CONTAINER_NAME\", \"data\")\n",
    "\n",
    "# Initialize Azure Blob Service Client\n",
    "blob_service_client = BlobServiceClient.from_connection_string(AZURE_CONNECTION_STRING)\n",
    "blob_container_client = blob_service_client.get_container_client(AZURE_CONTAINER_NAME)"
   ]
  },
  {
   "cell_type": "code",
   "execution_count": null,
   "id": "79d78dee",
   "metadata": {},
   "outputs": [],
   "source": [
    "\n",
    "def upload_file(file_path, blob_name):\n",
    "    \"\"\"\n",
    "    Uploads a file to Azure Blob Storage.\n",
    "\n",
    "    :param file_path: Path to the file to upload.\n",
    "    :param blob_name: Name of the blob in Azure Storage.\n",
    "    \"\"\"\n",
    "    try:\n",
    "        blob_client = blob_container_client.get_blob_client(blob_name)\n",
    "\n",
    "        print(f\"Uploading {file_path} to Blob Storage as {blob_name}...\")\n",
    "        with open(file_path, \"rb\") as data:\n",
    "            blob_client.upload_blob(data, overwrite=True)\n",
    "        print(\"Upload successful.\")\n",
    "    except Exception as e:\n",
    "        print(f\"Failed to upload file: {e}\")\n",
    "\n",
    "def download_file(blob_name, download_path):\n",
    "    \"\"\"\n",
    "    Downloads a blob from Azure Blob Storage.\n",
    "\n",
    "    :param blob_name: Name of the blob in Azure Storage.\n",
    "    :param download_path: Path where the downloaded file will be saved.\n",
    "    \"\"\"\n",
    "    try:\n",
    "        blob_client = blob_container_client.get_blob_client(blob_name)\n",
    "\n",
    "        print(f\"Downloading {blob_name} from Blob Storage to {download_path}...\")\n",
    "        with open(download_path, \"wb\") as download_file:\n",
    "            download_stream = blob_client.download_blob()\n",
    "            download_file.write(download_stream.readall())\n",
    "        print(\"Download successful.\")\n",
    "    except Exception as e:\n",
    "        print(f\"Failed to download file: {e}\")"
   ]
  },
  {
   "cell_type": "code",
   "execution_count": 7,
   "id": "3bf57a6c",
   "metadata": {},
   "outputs": [
    {
     "name": "stdout",
     "output_type": "stream",
     "text": [
      "Created sample file 'sample_upload.txt'.\n",
      "Failed to upload file: name 'blob_container_client' is not defined\n",
      "Failed to download file: name 'blob_container_client' is not defined\n",
      "Failed to read downloaded file: [Errno 2] No such file or directory: 'sample_download.txt'\n",
      "Failed to clean up local files: [Errno 2] No such file or directory: 'sample_download.txt'\n"
     ]
    }
   ],
   "source": [
    "# Define paths\n",
    "original_file = \"sample_upload.txt\"\n",
    "downloaded_file = \"sample_download.txt\"\n",
    "blob_name = \"sample_blob.txt\"\n",
    "\n",
    "# Create a sample file to upload\n",
    "try:\n",
    "    with open(original_file, \"w\") as f:\n",
    "        f.write(\"This is a test file for Azure Blob Storage upload and download.\\n\")\n",
    "    print(f\"Created sample file '{original_file}'.\")\n",
    "except Exception as e:\n",
    "    print(f\"Failed to create sample file: {e}\")\n",
    "\n",
    "# Upload the file\n",
    "upload_file(original_file, blob_name)\n",
    "\n",
    "# Download the file\n",
    "download_file(blob_name, downloaded_file)\n",
    "\n",
    "# Verify the download\n",
    "try:\n",
    "    with open(downloaded_file, \"r\") as f:\n",
    "        content = f.read()\n",
    "    print(f\"Content of downloaded file '{downloaded_file}':\\n{content}\")\n",
    "except Exception as e:\n",
    "    print(f\"Failed to read downloaded file: {e}\")\n",
    "\n",
    "# Clean up local files (optional)\n",
    "try:\n",
    "    os.remove(original_file)\n",
    "    os.remove(downloaded_file)\n",
    "    print(\"Cleaned up local files.\")\n",
    "except Exception as e:\n",
    "    print(f\"Failed to clean up local files: {e}\")"
   ]
  },
  {
   "cell_type": "code",
   "execution_count": null,
   "id": "6ced3a29",
   "metadata": {},
   "outputs": [],
   "source": []
  }
 ],
 "metadata": {
  "kernelspec": {
   "display_name": "stock",
   "language": "python",
   "name": "python3"
  },
  "language_info": {
   "codemirror_mode": {
    "name": "ipython",
    "version": 3
   },
   "file_extension": ".py",
   "mimetype": "text/x-python",
   "name": "python",
   "nbconvert_exporter": "python",
   "pygments_lexer": "ipython3",
   "version": "3.11.5"
  }
 },
 "nbformat": 4,
 "nbformat_minor": 5
}
